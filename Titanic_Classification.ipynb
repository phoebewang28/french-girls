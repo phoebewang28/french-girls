{
  "cells": [
    {
      "cell_type": "markdown",
      "metadata": {
        "id": "view-in-github",
        "colab_type": "text"
      },
      "source": [
        "<a href=\"https://colab.research.google.com/github/phoebewang28/french-girls/blob/main/Titanic_Classification.ipynb\" target=\"_parent\"><img src=\"https://colab.research.google.com/assets/colab-badge.svg\" alt=\"Open In Colab\"/></a>"
      ]
    },
    {
      "cell_type": "markdown",
      "metadata": {
        "id": "6QgtyVn8vopb"
      },
      "source": [
        "# Big Data Bootcamp Project: Dead or Alive -- Titanic Classification"
      ]
    },
    {
      "cell_type": "code",
      "execution_count": null,
      "metadata": {
        "id": "5cET-ixmvopo"
      },
      "outputs": [],
      "source": [
        "import numpy as np\n",
        "from math import *\n",
        "from datascience import *\n",
        "import pandas as pd\n",
        "import matplotlib.pyplot as plt\n",
        "import seaborn as sns\n",
        "\n",
        "%matplotlib inline"
      ]
    },
    {
      "cell_type": "markdown",
      "metadata": {
        "id": "cAbfo88rvops"
      },
      "source": [
        "## Part 1: Data Cleaning"
      ]
    },
    {
      "cell_type": "code",
      "source": [
        "from google.colab import drive\n",
        "drive.mount('/content/gdrive')\n",
        "#titanic_df = pd.read_csv('/content/gdrive/My Drive/titanic_dirty_info.csv')"
      ],
      "metadata": {
        "colab": {
          "base_uri": "https://localhost:8080/"
        },
        "id": "NtO8slXAw5OV",
        "outputId": "e237a2f7-1269-49ad-c098-78906d37b5b2"
      },
      "execution_count": null,
      "outputs": [
        {
          "output_type": "stream",
          "name": "stdout",
          "text": [
            "Drive already mounted at /content/gdrive; to attempt to forcibly remount, call drive.mount(\"/content/gdrive\", force_remount=True).\n"
          ]
        }
      ]
    },
    {
      "cell_type": "code",
      "execution_count": null,
      "metadata": {
        "scrolled": true,
        "id": "vP7JyEsIvopt",
        "outputId": "19856770-4ee8-4da1-cb4a-e3b598b24353",
        "colab": {
          "base_uri": "https://localhost:8080/",
          "height": 369
        }
      },
      "outputs": [
        {
          "output_type": "display_data",
          "data": {
            "text/plain": [
              "<IPython.core.display.HTML object>"
            ],
            "text/html": [
              "<table border=\"1\" class=\"dataframe\">\n",
              "    <thead>\n",
              "        <tr>\n",
              "            <th>passenger age</th> <th>Cabin</th> <th>Location Embarked</th> <th>FARE</th> <th>Passenger Name</th> <th># of parents/children</th> <th>PassengerId</th> <th>Passenger Class</th> <th>Sex</th> <th># of siblings/spouses</th> <th>Survived</th> <th>Ticket</th> <th>Title</th> <th>Family_Size</th>\n",
              "        </tr>\n",
              "    </thead>\n",
              "    <tbody>\n",
              "        <tr>\n",
              "            <td>20           </td> <td>C14  </td> <td>nan              </td> <td>nan    </td> <td>Pang, Mr. Joseph Guadalupe                         </td> <td>nan                  </td> <td>nan        </td> <td>nan            </td> <td>MALE  </td> <td>nan                  </td> <td>no      </td> <td>nan             </td> <td>Mr   </td> <td>nan        </td>\n",
              "        </tr>\n",
              "        <tr>\n",
              "            <td>22           </td> <td>nan  </td> <td>S                </td> <td>7.25   </td> <td>Braund, Mr. Owen Harris                            </td> <td>0                    </td> <td>1          </td> <td>3              </td> <td>MALE  </td> <td>1                    </td> <td>no      </td> <td>A/5 21171       </td> <td>Mr   </td> <td>1          </td>\n",
              "        </tr>\n",
              "        <tr>\n",
              "            <td>38           </td> <td>C85  </td> <td>C                </td> <td>71.2833</td> <td>Cumings, Mrs. John Bradley (Florence Briggs Thayer)</td> <td>0                    </td> <td>2          </td> <td>1              </td> <td>FEMALE</td> <td>1                    </td> <td>yes     </td> <td>PC 17599        </td> <td>Mrs  </td> <td>1          </td>\n",
              "        </tr>\n",
              "        <tr>\n",
              "            <td>26           </td> <td>nan  </td> <td>S                </td> <td>7.925  </td> <td>Heikkinen, Miss. Laina                             </td> <td>0                    </td> <td>3          </td> <td>3              </td> <td>FEMALE</td> <td>0                    </td> <td>yes     </td> <td>STON/O2. 3101282</td> <td>Miss </td> <td>0          </td>\n",
              "        </tr>\n",
              "        <tr>\n",
              "            <td>35           </td> <td>C123 </td> <td>S                </td> <td>53.1   </td> <td>Futrelle, Mrs. Jacques Heath (Lily May Peel)       </td> <td>0                    </td> <td>4          </td> <td>1              </td> <td>FEMALE</td> <td>1                    </td> <td>yes     </td> <td>113803          </td> <td>Mrs  </td> <td>1          </td>\n",
              "        </tr>\n",
              "    </tbody>\n",
              "</table>\n",
              "<p>... (890 rows omitted)</p>"
            ]
          },
          "metadata": {}
        }
      ],
      "source": [
        "titanic = Table.read_table('/content/gdrive/My Drive/titanic_dirty_info.csv')\n",
        "titanic.show(5)"
      ]
    },
    {
      "cell_type": "code",
      "execution_count": null,
      "metadata": {
        "id": "vx6DF4g5vopw"
      },
      "outputs": [],
      "source": [
        "# function to make it easier to remove 'nan' entries by turning them into strings\n",
        "def to_str(array):\n",
        "    new_array = make_array()\n",
        "    for i in array:\n",
        "        if (i>0 or i<0 or i==0):\n",
        "            new_array = np.append(new_array,i)\n",
        "        else:\n",
        "            new_array = np.append(new_array,str(i))\n",
        "    return new_array"
      ]
    },
    {
      "cell_type": "code",
      "execution_count": null,
      "metadata": {
        "id": "V2bAQRusvopx"
      },
      "outputs": [],
      "source": [
        "#run this cell to use the to_str function on the necessary columns.\n",
        "new_Fare = to_str(titanic.column('FARE'))\n",
        "new_Class = to_str(titanic.column('Passenger Class'))\n",
        "new_Family_Size = to_str(titanic.column('Family_Size'))"
      ]
    },
    {
      "cell_type": "code",
      "execution_count": null,
      "metadata": {
        "scrolled": true,
        "id": "i3CMq0HYvopz",
        "outputId": "e0797cab-e566-4d89-8f1e-6edfe23bdc87",
        "colab": {
          "base_uri": "https://localhost:8080/",
          "height": 369
        }
      },
      "outputs": [
        {
          "output_type": "display_data",
          "data": {
            "text/plain": [
              "<IPython.core.display.HTML object>"
            ],
            "text/html": [
              "<table border=\"1\" class=\"dataframe\">\n",
              "    <thead>\n",
              "        <tr>\n",
              "            <th>passenger age</th> <th>Cabin</th> <th>Location Embarked</th> <th>FARE</th> <th>Passenger Name</th> <th># of parents/children</th> <th>PassengerId</th> <th>Passenger Class</th> <th>Sex</th> <th># of siblings/spouses</th> <th>Survived</th> <th>Ticket</th> <th>Title</th> <th>Family_Size</th>\n",
              "        </tr>\n",
              "    </thead>\n",
              "    <tbody>\n",
              "        <tr>\n",
              "            <td>20           </td> <td>C14  </td> <td>nan              </td> <td>nan    </td> <td>Pang, Mr. Joseph Guadalupe                         </td> <td>nan                  </td> <td>nan        </td> <td>nan            </td> <td>MALE  </td> <td>nan                  </td> <td>no      </td> <td>nan             </td> <td>Mr   </td> <td>nan        </td>\n",
              "        </tr>\n",
              "        <tr>\n",
              "            <td>22           </td> <td>nan  </td> <td>S                </td> <td>7.25   </td> <td>Braund, Mr. Owen Harris                            </td> <td>0                    </td> <td>1          </td> <td>3.0            </td> <td>MALE  </td> <td>1                    </td> <td>no      </td> <td>A/5 21171       </td> <td>Mr   </td> <td>1.0        </td>\n",
              "        </tr>\n",
              "        <tr>\n",
              "            <td>38           </td> <td>C85  </td> <td>C                </td> <td>71.2833</td> <td>Cumings, Mrs. John Bradley (Florence Briggs Thayer)</td> <td>0                    </td> <td>2          </td> <td>1.0            </td> <td>FEMALE</td> <td>1                    </td> <td>yes     </td> <td>PC 17599        </td> <td>Mrs  </td> <td>1.0        </td>\n",
              "        </tr>\n",
              "        <tr>\n",
              "            <td>26           </td> <td>nan  </td> <td>S                </td> <td>7.925  </td> <td>Heikkinen, Miss. Laina                             </td> <td>0                    </td> <td>3          </td> <td>3.0            </td> <td>FEMALE</td> <td>0                    </td> <td>yes     </td> <td>STON/O2. 3101282</td> <td>Miss </td> <td>0.0        </td>\n",
              "        </tr>\n",
              "        <tr>\n",
              "            <td>35           </td> <td>C123 </td> <td>S                </td> <td>53.1   </td> <td>Futrelle, Mrs. Jacques Heath (Lily May Peel)       </td> <td>0                    </td> <td>4          </td> <td>1.0            </td> <td>FEMALE</td> <td>1                    </td> <td>yes     </td> <td>113803          </td> <td>Mrs  </td> <td>1.0        </td>\n",
              "        </tr>\n",
              "    </tbody>\n",
              "</table>\n",
              "<p>... (890 rows omitted)</p>"
            ]
          },
          "metadata": {}
        }
      ],
      "source": [
        "#update columns\n",
        "titanic = titanic.with_columns('FARE', new_Fare, 'Passenger Class', new_Class, 'Family_Size', new_Family_Size)\n",
        "titanic.show(5)"
      ]
    },
    {
      "cell_type": "code",
      "execution_count": null,
      "metadata": {
        "scrolled": false,
        "id": "Hjo-Zo68vop1",
        "outputId": "e1c1aa83-c5dc-4b05-bdb6-48f7cf075080",
        "colab": {
          "base_uri": "https://localhost:8080/",
          "height": 233
        }
      },
      "outputs": [
        {
          "output_type": "display_data",
          "data": {
            "text/plain": [
              "<IPython.core.display.HTML object>"
            ],
            "text/html": [
              "<table border=\"1\" class=\"dataframe\">\n",
              "    <thead>\n",
              "        <tr>\n",
              "            <th>passenger age</th> <th>FARE</th> <th>Passenger Name</th> <th>Passenger Class</th> <th>Sex</th> <th>Survived</th> <th>Family_Size</th>\n",
              "        </tr>\n",
              "    </thead>\n",
              "    <tbody>\n",
              "        <tr>\n",
              "            <td>20           </td> <td>nan    </td> <td>Pang, Mr. Joseph Guadalupe                         </td> <td>nan            </td> <td>MALE  </td> <td>no      </td> <td>nan        </td>\n",
              "        </tr>\n",
              "        <tr>\n",
              "            <td>22           </td> <td>7.25   </td> <td>Braund, Mr. Owen Harris                            </td> <td>3.0            </td> <td>MALE  </td> <td>no      </td> <td>1.0        </td>\n",
              "        </tr>\n",
              "        <tr>\n",
              "            <td>38           </td> <td>71.2833</td> <td>Cumings, Mrs. John Bradley (Florence Briggs Thayer)</td> <td>1.0            </td> <td>FEMALE</td> <td>yes     </td> <td>1.0        </td>\n",
              "        </tr>\n",
              "        <tr>\n",
              "            <td>26           </td> <td>7.925  </td> <td>Heikkinen, Miss. Laina                             </td> <td>3.0            </td> <td>FEMALE</td> <td>yes     </td> <td>0.0        </td>\n",
              "        </tr>\n",
              "        <tr>\n",
              "            <td>35           </td> <td>53.1   </td> <td>Futrelle, Mrs. Jacques Heath (Lily May Peel)       </td> <td>1.0            </td> <td>FEMALE</td> <td>yes     </td> <td>1.0        </td>\n",
              "        </tr>\n",
              "    </tbody>\n",
              "</table>\n",
              "<p>... (890 rows omitted)</p>"
            ]
          },
          "metadata": {}
        }
      ],
      "source": [
        "# remove columns, prettify labels\n",
        "titanic = titanic.drop('Cabin', 'Location Embarked', 'PassengerId', 'Ticket', 'Title', '# of parents/children', '# of siblings/spouses')\n",
        "titanic.relabel('passenger age', 'Age')\n",
        "titanic.relabel('FARE', 'Fare')\n",
        "titanic.relabel('Passenger Name', 'Name')\n",
        "titanic.relabel('Passenger Class', 'Class')\n",
        "titanic.relabel('Family_Size', 'Family Size')\n",
        "titanic.show(5)"
      ]
    },
    {
      "cell_type": "code",
      "execution_count": null,
      "metadata": {
        "scrolled": true,
        "id": "RVYI6-3avop4",
        "outputId": "35de82df-dfe6-4006-c992-645fd9667a49",
        "colab": {
          "base_uri": "https://localhost:8080/",
          "height": 233
        }
      },
      "outputs": [
        {
          "output_type": "display_data",
          "data": {
            "text/plain": [
              "<IPython.core.display.HTML object>"
            ],
            "text/html": [
              "<table border=\"1\" class=\"dataframe\">\n",
              "    <thead>\n",
              "        <tr>\n",
              "            <th>Age</th> <th>Fare</th> <th>Name</th> <th>Class</th> <th>Sex</th> <th>Survived</th> <th>Family Size</th>\n",
              "        </tr>\n",
              "    </thead>\n",
              "    <tbody>\n",
              "        <tr>\n",
              "            <td>22  </td> <td>7.25   </td> <td>Braund, Mr. Owen Harris                            </td> <td>3.0  </td> <td>MALE  </td> <td>no      </td> <td>1.0        </td>\n",
              "        </tr>\n",
              "        <tr>\n",
              "            <td>38  </td> <td>71.2833</td> <td>Cumings, Mrs. John Bradley (Florence Briggs Thayer)</td> <td>1.0  </td> <td>FEMALE</td> <td>yes     </td> <td>1.0        </td>\n",
              "        </tr>\n",
              "        <tr>\n",
              "            <td>26  </td> <td>7.925  </td> <td>Heikkinen, Miss. Laina                             </td> <td>3.0  </td> <td>FEMALE</td> <td>yes     </td> <td>0.0        </td>\n",
              "        </tr>\n",
              "        <tr>\n",
              "            <td>35  </td> <td>53.1   </td> <td>Futrelle, Mrs. Jacques Heath (Lily May Peel)       </td> <td>1.0  </td> <td>FEMALE</td> <td>yes     </td> <td>1.0        </td>\n",
              "        </tr>\n",
              "        <tr>\n",
              "            <td>35  </td> <td>8.05   </td> <td>Allen, Mr. William Henry                           </td> <td>3.0  </td> <td>MALE  </td> <td>no      </td> <td>0.0        </td>\n",
              "        </tr>\n",
              "    </tbody>\n",
              "</table>\n",
              "<p>... (886 rows omitted)</p>"
            ]
          },
          "metadata": {}
        }
      ],
      "source": [
        "titanic = titanic.where('Fare', are.not_equal_to('nan'))\n",
        "titanic.show(5)"
      ]
    },
    {
      "cell_type": "code",
      "execution_count": null,
      "metadata": {
        "id": "PLgIudzRvop6"
      },
      "outputs": [],
      "source": [
        "# turn columns back into floats\n",
        "def to_float(array):\n",
        "    new_array = make_array()\n",
        "    for i in array:\n",
        "        new_array = np.append(new_array,float(i))\n",
        "    return new_array"
      ]
    },
    {
      "cell_type": "code",
      "execution_count": null,
      "metadata": {
        "id": "G88iladXvop6"
      },
      "outputs": [],
      "source": [
        "new_Fare = to_float(titanic.column('Fare'))\n",
        "new_Class = to_float(titanic.column('Class'))\n",
        "new_Family_size = to_float(titanic.column('Family Size'))"
      ]
    },
    {
      "cell_type": "code",
      "execution_count": null,
      "metadata": {
        "id": "lei1kQU0vop9",
        "outputId": "44c71689-4a7b-42e7-b8fe-c7f1a6401a03",
        "colab": {
          "base_uri": "https://localhost:8080/",
          "height": 233
        }
      },
      "outputs": [
        {
          "output_type": "display_data",
          "data": {
            "text/plain": [
              "<IPython.core.display.HTML object>"
            ],
            "text/html": [
              "<table border=\"1\" class=\"dataframe\">\n",
              "    <thead>\n",
              "        <tr>\n",
              "            <th>Age</th> <th>Fare</th> <th>Name</th> <th>Class</th> <th>Sex</th> <th>Survived</th> <th>Family Size</th>\n",
              "        </tr>\n",
              "    </thead>\n",
              "    <tbody>\n",
              "        <tr>\n",
              "            <td>22  </td> <td>7.25   </td> <td>Braund, Mr. Owen Harris                            </td> <td>3    </td> <td>MALE  </td> <td>no      </td> <td>1          </td>\n",
              "        </tr>\n",
              "        <tr>\n",
              "            <td>38  </td> <td>71.2833</td> <td>Cumings, Mrs. John Bradley (Florence Briggs Thayer)</td> <td>1    </td> <td>FEMALE</td> <td>yes     </td> <td>1          </td>\n",
              "        </tr>\n",
              "        <tr>\n",
              "            <td>26  </td> <td>7.925  </td> <td>Heikkinen, Miss. Laina                             </td> <td>3    </td> <td>FEMALE</td> <td>yes     </td> <td>0          </td>\n",
              "        </tr>\n",
              "        <tr>\n",
              "            <td>35  </td> <td>53.1   </td> <td>Futrelle, Mrs. Jacques Heath (Lily May Peel)       </td> <td>1    </td> <td>FEMALE</td> <td>yes     </td> <td>1          </td>\n",
              "        </tr>\n",
              "        <tr>\n",
              "            <td>35  </td> <td>8.05   </td> <td>Allen, Mr. William Henry                           </td> <td>3    </td> <td>MALE  </td> <td>no      </td> <td>0          </td>\n",
              "        </tr>\n",
              "    </tbody>\n",
              "</table>\n",
              "<p>... (886 rows omitted)</p>"
            ]
          },
          "metadata": {}
        }
      ],
      "source": [
        "titanic = titanic.with_columns('Fare', new_Fare, 'Class', new_Class, 'Family Size', new_Family_size)\n",
        "titanic.show(5)"
      ]
    },
    {
      "cell_type": "code",
      "execution_count": null,
      "metadata": {
        "id": "XfK1BxX5vop-",
        "outputId": "293adf63-aea9-4f5d-801a-333b22a7f699",
        "colab": {
          "base_uri": "https://localhost:8080/"
        }
      },
      "outputs": [
        {
          "output_type": "execute_result",
          "data": {
            "text/plain": [
              "array(['male', 'female', 'female', 'female', 'male', 'male', 'male',\n",
              "       'male', 'female', 'female', 'female', 'female', 'male', 'male',\n",
              "       'female', 'female', 'male', 'male', 'female', 'female', 'male',\n",
              "       'male', 'female', 'male', 'female', 'female', 'male', 'male',\n",
              "       'female', 'male', 'male', 'female', 'female', 'male', 'male',\n",
              "       'male', 'male', 'male', 'female', 'female', 'female', 'female',\n",
              "       'male', 'female', 'female', 'male', 'male', 'female', 'male',\n",
              "       'female', 'male', 'male', 'female', 'female', 'male', 'male',\n",
              "       'female', 'male', 'female', 'male', 'male', 'female', 'male',\n",
              "       'male', 'male', 'male', 'female', 'male', 'female', 'male', 'male',\n",
              "       'female', 'male', 'male', 'male', 'male', 'male', 'male', 'male',\n",
              "       'female', 'male', 'male', 'female', 'male', 'female', 'female',\n",
              "       'male', 'male', 'female', 'male', 'male', 'male', 'male', 'male',\n",
              "       'male', 'male', 'male', 'male', 'female', 'male', 'female', 'male',\n",
              "       'male', 'male', 'male', 'male', 'female', 'male', 'male', 'female',\n",
              "       'male', 'female', 'male', 'female', 'female', 'male', 'male',\n",
              "       'male', 'male', 'female', 'male', 'male', 'male', 'female', 'male',\n",
              "       'male', 'male', 'male', 'female', 'male', 'male', 'male', 'female',\n",
              "       'female', 'male', 'male', 'female', 'male', 'male', 'male',\n",
              "       'female', 'female', 'female', 'male', 'male', 'male', 'male',\n",
              "       'female', 'male', 'male', 'male', 'female', 'male', 'male', 'male',\n",
              "       'male', 'female', 'male', 'male', 'male', 'male', 'female', 'male',\n",
              "       'male', 'male', 'male', 'female', 'female', 'male', 'male', 'male',\n",
              "       'male', 'female', 'male', 'male', 'male', 'male', 'female', 'male',\n",
              "       'male', 'female', 'male', 'male', 'male', 'female', 'male',\n",
              "       'female', 'male', 'male', 'male', 'female', 'male', 'female',\n",
              "       'male', 'female', 'female', 'male', 'male', 'female', 'female',\n",
              "       'male', 'male', 'male', 'male', 'male', 'female', 'male', 'male',\n",
              "       'female', 'male', 'male', 'female', 'male', 'male', 'male',\n",
              "       'female', 'female', 'male', 'female', 'male', 'male', 'male',\n",
              "       'male', 'male', 'male', 'male', 'male', 'male', 'male', 'female',\n",
              "       'female', 'male', 'male', 'female', 'male', 'female', 'male',\n",
              "       'female', 'male', 'male', 'female', 'female', 'male', 'male',\n",
              "       'male', 'male', 'female', 'female', 'male', 'male', 'male',\n",
              "       'female', 'male', 'male', 'female', 'female', 'female', 'female',\n",
              "       'female', 'female', 'male', 'male', 'male', 'male', 'female',\n",
              "       'male', 'male', 'male', 'female', 'female', 'male', 'male',\n",
              "       'female', 'male', 'female', 'female', 'female', 'male', 'male',\n",
              "       'female', 'male', 'male', 'male', 'male', 'male', 'male', 'male',\n",
              "       'male', 'male', 'female', 'female', 'female', 'male', 'female',\n",
              "       'male', 'male', 'male', 'female', 'male', 'female', 'female',\n",
              "       'male', 'male', 'female', 'male', 'male', 'female', 'female',\n",
              "       'male', 'female', 'female', 'female', 'female', 'male', 'male',\n",
              "       'female', 'female', 'male', 'female', 'female', 'male', 'male',\n",
              "       'female', 'female', 'male', 'female', 'male', 'female', 'female',\n",
              "       'female', 'female', 'male', 'male', 'male', 'female', 'male',\n",
              "       'male', 'female', 'male', 'male', 'male', 'female', 'male', 'male',\n",
              "       'male', 'female', 'female', 'female', 'male', 'male', 'male',\n",
              "       'male', 'male', 'male', 'male', 'male', 'female', 'female',\n",
              "       'female', 'female', 'male', 'male', 'female', 'male', 'male',\n",
              "       'male', 'female', 'female', 'female', 'female', 'male', 'male',\n",
              "       'male', 'male', 'female', 'female', 'female', 'male', 'male',\n",
              "       'male', 'female', 'female', 'male', 'female', 'male', 'male',\n",
              "       'male', 'female', 'male', 'female', 'male', 'male', 'male',\n",
              "       'female', 'female', 'male', 'female', 'male', 'male', 'female',\n",
              "       'male', 'male', 'female', 'male', 'female', 'male', 'male', 'male',\n",
              "       'male', 'female', 'male', 'male', 'female', 'male', 'male',\n",
              "       'female', 'female', 'female', 'male', 'female', 'male', 'male',\n",
              "       'male', 'female', 'male', 'male', 'female', 'female', 'male',\n",
              "       'male', 'male', 'female', 'female', 'male', 'male', 'female',\n",
              "       'female', 'female', 'male', 'male', 'female', 'male', 'male',\n",
              "       'female', 'male', 'male', 'female', 'male', 'female', 'male',\n",
              "       'male', 'male', 'male', 'male', 'male', 'male', 'male', 'female',\n",
              "       'female', 'male', 'male', 'male', 'male', 'male', 'male', 'male',\n",
              "       'male', 'male', 'male', 'female', 'male', 'male', 'female',\n",
              "       'female', 'female', 'male', 'male', 'male', 'male', 'female',\n",
              "       'male', 'male', 'male', 'female', 'male', 'female', 'female',\n",
              "       'male', 'male', 'male', 'male', 'male', 'male', 'male', 'male',\n",
              "       'male', 'female', 'male', 'female', 'male', 'male', 'female',\n",
              "       'female', 'female', 'female', 'male', 'female', 'male', 'male',\n",
              "       'male', 'male', 'male', 'male', 'female', 'male', 'male', 'female',\n",
              "       'male', 'female', 'male', 'female', 'male', 'male', 'female',\n",
              "       'male', 'male', 'female', 'male', 'male', 'male', 'female', 'male',\n",
              "       'male', 'female', 'female', 'female', 'male', 'female', 'male',\n",
              "       'female', 'female', 'female', 'female', 'male', 'male', 'male',\n",
              "       'female', 'male', 'male', 'male', 'male', 'male', 'male', 'male',\n",
              "       'female', 'male', 'female', 'male', 'female', 'female', 'male',\n",
              "       'male', 'male', 'male', 'female', 'male', 'male', 'female', 'male',\n",
              "       'male', 'male', 'female', 'male', 'female', 'male', 'male',\n",
              "       'female', 'female', 'female', 'male', 'female', 'female', 'male',\n",
              "       'male', 'male', 'female', 'male', 'male', 'male', 'male', 'male',\n",
              "       'female', 'male', 'female', 'male', 'male', 'female', 'male',\n",
              "       'male', 'male', 'female', 'male', 'male', 'male', 'male', 'male',\n",
              "       'male', 'male', 'female', 'female', 'female', 'male', 'female',\n",
              "       'male', 'male', 'female', 'male', 'female', 'female', 'male',\n",
              "       'male', 'male', 'male', 'male', 'male', 'male', 'male', 'female',\n",
              "       'male', 'male', 'male', 'male', 'male', 'male', 'female', 'female',\n",
              "       'male', 'male', 'female', 'male', 'male', 'female', 'female',\n",
              "       'male', 'female', 'male', 'male', 'male', 'male', 'female', 'male',\n",
              "       'female', 'male', 'female', 'female', 'male', 'male', 'female',\n",
              "       'male', 'male', 'male', 'male', 'male', 'male', 'male', 'male',\n",
              "       'male', 'male', 'male', 'female', 'female', 'male', 'male', 'male',\n",
              "       'male', 'male', 'male', 'female', 'female', 'male', 'female',\n",
              "       'male', 'male', 'male', 'male', 'male', 'male', 'male', 'male',\n",
              "       'female', 'male', 'female', 'male', 'male', 'male', 'male', 'male',\n",
              "       'female', 'male', 'male', 'female', 'male', 'female', 'male',\n",
              "       'male', 'male', 'female', 'male', 'female', 'male', 'female',\n",
              "       'male', 'male', 'male', 'male', 'male', 'female', 'female', 'male',\n",
              "       'male', 'female', 'male', 'male', 'male', 'male', 'male', 'female',\n",
              "       'female', 'male', 'female', 'female', 'male', 'male', 'male',\n",
              "       'male', 'male', 'female', 'male', 'male', 'male', 'male', 'male',\n",
              "       'female', 'male', 'male', 'male', 'male', 'female', 'male', 'male',\n",
              "       'female', 'male', 'male', 'male', 'female', 'male', 'male', 'male',\n",
              "       'male', 'female', 'male', 'male', 'male', 'female', 'male',\n",
              "       'female', 'male', 'female', 'male', 'male', 'male', 'male',\n",
              "       'female', 'male', 'female', 'male', 'male', 'female', 'male',\n",
              "       'female', 'female', 'female', 'male', 'male', 'male', 'male',\n",
              "       'female', 'male', 'male', 'male', 'male', 'male', 'female', 'male',\n",
              "       'male', 'male', 'female', 'female', 'male', 'female', 'male',\n",
              "       'female', 'male', 'male', 'male', 'male', 'male', 'female', 'male',\n",
              "       'female', 'male', 'male', 'male', 'female', 'male', 'male',\n",
              "       'female', 'male', 'male', 'male', 'female', 'male', 'male',\n",
              "       'female', 'male', 'male', 'male', 'male', 'male', 'female',\n",
              "       'female', 'male', 'male', 'male', 'male', 'female', 'male', 'male',\n",
              "       'male', 'male', 'male', 'male', 'female', 'male', 'male', 'male',\n",
              "       'male', 'male', 'male', 'female', 'male', 'male', 'female',\n",
              "       'female', 'female', 'female', 'female', 'male', 'female', 'male',\n",
              "       'male', 'male', 'female', 'female', 'male', 'female', 'female',\n",
              "       'male', 'male', 'male', 'male', 'female', 'male', 'male', 'female',\n",
              "       'female', 'male', 'male', 'male', 'female', 'female', 'male',\n",
              "       'female', 'male', 'male', 'female', 'male', 'female', 'female',\n",
              "       'male', 'male'],\n",
              "      dtype='<U6')"
            ]
          },
          "metadata": {},
          "execution_count": 19
        }
      ],
      "source": [
        "sex_lower = titanic.apply(np.char.lower, 'Sex')\n",
        "sex_lower"
      ]
    },
    {
      "cell_type": "code",
      "execution_count": null,
      "metadata": {
        "scrolled": false,
        "id": "wT-P_zt9vop-",
        "outputId": "6c1c3218-6910-4753-99f8-d99e16b525b8",
        "colab": {
          "base_uri": "https://localhost:8080/",
          "height": 233
        }
      },
      "outputs": [
        {
          "output_type": "display_data",
          "data": {
            "text/plain": [
              "<IPython.core.display.HTML object>"
            ],
            "text/html": [
              "<table border=\"1\" class=\"dataframe\">\n",
              "    <thead>\n",
              "        <tr>\n",
              "            <th>Age</th> <th>Fare</th> <th>Name</th> <th>Class</th> <th>Sex</th> <th>Survived</th> <th>Family Size</th>\n",
              "        </tr>\n",
              "    </thead>\n",
              "    <tbody>\n",
              "        <tr>\n",
              "            <td>22  </td> <td>7.25   </td> <td>Braund, Mr. Owen Harris                            </td> <td>3    </td> <td>male  </td> <td>no      </td> <td>1          </td>\n",
              "        </tr>\n",
              "        <tr>\n",
              "            <td>38  </td> <td>71.2833</td> <td>Cumings, Mrs. John Bradley (Florence Briggs Thayer)</td> <td>1    </td> <td>female</td> <td>yes     </td> <td>1          </td>\n",
              "        </tr>\n",
              "        <tr>\n",
              "            <td>26  </td> <td>7.925  </td> <td>Heikkinen, Miss. Laina                             </td> <td>3    </td> <td>female</td> <td>yes     </td> <td>0          </td>\n",
              "        </tr>\n",
              "        <tr>\n",
              "            <td>35  </td> <td>53.1   </td> <td>Futrelle, Mrs. Jacques Heath (Lily May Peel)       </td> <td>1    </td> <td>female</td> <td>yes     </td> <td>1          </td>\n",
              "        </tr>\n",
              "        <tr>\n",
              "            <td>35  </td> <td>8.05   </td> <td>Allen, Mr. William Henry                           </td> <td>3    </td> <td>male  </td> <td>no      </td> <td>0          </td>\n",
              "        </tr>\n",
              "    </tbody>\n",
              "</table>\n",
              "<p>... (886 rows omitted)</p>"
            ]
          },
          "metadata": {}
        }
      ],
      "source": [
        "titanic = titanic.with_columns('Sex', sex_lower)\n",
        "titanic.show(5)"
      ]
    },
    {
      "cell_type": "code",
      "execution_count": null,
      "metadata": {
        "id": "24ywLXinvop_"
      },
      "outputs": [],
      "source": [
        "# turn survived column into numerical data\n",
        "def one_zero(x):\n",
        "    if x == 'yes':\n",
        "        return 1\n",
        "    else:\n",
        "        return 0"
      ]
    },
    {
      "cell_type": "code",
      "execution_count": null,
      "metadata": {
        "scrolled": false,
        "id": "QySNpknGvoqB",
        "outputId": "9438b66d-c7be-464d-de67-8f39d707a9e4",
        "colab": {
          "base_uri": "https://localhost:8080/",
          "height": 233
        }
      },
      "outputs": [
        {
          "output_type": "display_data",
          "data": {
            "text/plain": [
              "<IPython.core.display.HTML object>"
            ],
            "text/html": [
              "<table border=\"1\" class=\"dataframe\">\n",
              "    <thead>\n",
              "        <tr>\n",
              "            <th>Age</th> <th>Fare</th> <th>Name</th> <th>Class</th> <th>Sex</th> <th>Survived</th> <th>Family Size</th>\n",
              "        </tr>\n",
              "    </thead>\n",
              "    <tbody>\n",
              "        <tr>\n",
              "            <td>22  </td> <td>7.25   </td> <td>Braund, Mr. Owen Harris                            </td> <td>3    </td> <td>male  </td> <td>0       </td> <td>1          </td>\n",
              "        </tr>\n",
              "        <tr>\n",
              "            <td>38  </td> <td>71.2833</td> <td>Cumings, Mrs. John Bradley (Florence Briggs Thayer)</td> <td>1    </td> <td>female</td> <td>1       </td> <td>1          </td>\n",
              "        </tr>\n",
              "        <tr>\n",
              "            <td>26  </td> <td>7.925  </td> <td>Heikkinen, Miss. Laina                             </td> <td>3    </td> <td>female</td> <td>1       </td> <td>0          </td>\n",
              "        </tr>\n",
              "        <tr>\n",
              "            <td>35  </td> <td>53.1   </td> <td>Futrelle, Mrs. Jacques Heath (Lily May Peel)       </td> <td>1    </td> <td>female</td> <td>1       </td> <td>1          </td>\n",
              "        </tr>\n",
              "        <tr>\n",
              "            <td>35  </td> <td>8.05   </td> <td>Allen, Mr. William Henry                           </td> <td>3    </td> <td>male  </td> <td>0       </td> <td>0          </td>\n",
              "        </tr>\n",
              "    </tbody>\n",
              "</table>\n",
              "<p>... (886 rows omitted)</p>"
            ]
          },
          "metadata": {}
        }
      ],
      "source": [
        "new_survived = titanic.apply(one_zero, 'Survived')\n",
        "titanic = titanic.with_columns('Survived', new_survived)\n",
        "titanic.show(5)"
      ]
    },
    {
      "cell_type": "markdown",
      "metadata": {
        "id": "Um_Z75oPvoqB"
      },
      "source": [
        "## Part 2: Exploratory Data Analysis"
      ]
    },
    {
      "cell_type": "markdown",
      "metadata": {
        "id": "X-fohSThvoqC"
      },
      "source": [
        "### General exploration"
      ]
    },
    {
      "cell_type": "code",
      "execution_count": null,
      "metadata": {
        "id": "Y2lWvNMgvoqE",
        "outputId": "35ceb0ab-4a8d-4981-9e38-c696bcf9dae9",
        "colab": {
          "base_uri": "https://localhost:8080/"
        }
      },
      "outputs": [
        {
          "output_type": "stream",
          "name": "stdout",
          "text": [
            "There were 891 passengers on the Titanic, but only 342 survived.\n"
          ]
        }
      ],
      "source": [
        "total_passengers = titanic.num_rows\n",
        "num_survived = sum(titanic.column('Survived'))\n",
        "print('There were ' + str(total_passengers) + ' passengers on the Titanic, but only ' + str(num_survived) + ' survived.')"
      ]
    },
    {
      "cell_type": "code",
      "execution_count": null,
      "metadata": {
        "id": "X19RKlQsvoqH",
        "outputId": "8dbd9400-4245-4ad0-c31e-b615c7100bbc",
        "colab": {
          "base_uri": "https://localhost:8080/"
        }
      },
      "outputs": [
        {
          "output_type": "stream",
          "name": "stdout",
          "text": [
            "There were 577 male passengers, but only 314 female passengers.\n"
          ]
        }
      ],
      "source": [
        "# Number of males onboard\n",
        "num_male = titanic.where('Sex', are.equal_to('male')).num_rows\n",
        "\n",
        "# Number of females onboard\n",
        "num_female = titanic.where('Sex', are.equal_to('female')).num_rows\n",
        "\n",
        "print('There were ' + str(num_male) + ' male passengers, but only ' + str(num_female) + ' female passengers.')"
      ]
    },
    {
      "cell_type": "markdown",
      "metadata": {
        "id": "pWPzm10PvoqK"
      },
      "source": [
        "### Descriptive statistics (mean, median, etc.)"
      ]
    },
    {
      "cell_type": "code",
      "execution_count": null,
      "metadata": {
        "id": "E7RGf7NtvoqM",
        "outputId": "32a1495c-7b01-4ece-8879-8b3c8e9aedd3",
        "colab": {
          "base_uri": "https://localhost:8080/"
        }
      },
      "outputs": [
        {
          "output_type": "stream",
          "name": "stdout",
          "text": [
            "The mean fare on the Titanic is 32.2042079686\n",
            "The mean age on the Titanic is 29.4451964085\n"
          ]
        }
      ],
      "source": [
        "mean_fare = np.mean(titanic.column('Fare'))\n",
        "mean_age = np.mean(titanic.column('Age'))\n",
        "print('The mean fare on the Titanic is ' + str(mean_fare))\n",
        "print('The mean age on the Titanic is ' + str(mean_age))"
      ]
    },
    {
      "cell_type": "code",
      "execution_count": null,
      "metadata": {
        "id": "7c6XCdjSvoqO",
        "outputId": "603893ee-eb5f-47bd-e4f4-2772637c0311",
        "colab": {
          "base_uri": "https://localhost:8080/"
        }
      },
      "outputs": [
        {
          "output_type": "stream",
          "name": "stdout",
          "text": [
            "The mean fare on the Titanic is 32\n",
            "The mean age on the Titanic is 29\n"
          ]
        }
      ],
      "source": [
        "rounded_mean_fare = round(mean_fare)\n",
        "rounded_mean_age = round(mean_age)\n",
        "print('The mean fare on the Titanic is ' + str(rounded_mean_fare))\n",
        "print('The mean age on the Titanic is ' + str(rounded_mean_age))"
      ]
    },
    {
      "cell_type": "code",
      "execution_count": null,
      "metadata": {
        "id": "obydAT6gvoqQ",
        "outputId": "de6b32da-130f-4c3f-d641-49e7950083d0",
        "colab": {
          "base_uri": "https://localhost:8080/"
        }
      },
      "outputs": [
        {
          "output_type": "stream",
          "name": "stdout",
          "text": [
            "The median fare on the Titanic is 14\n",
            "The median age on the Titanic is 30\n"
          ]
        }
      ],
      "source": [
        "median_fare = round(np.median(titanic.column('Fare')))\n",
        "median_age = round(np.median(titanic.column('Age')))\n",
        "print('The median fare on the Titanic is ' + str(median_fare))\n",
        "print('The median age on the Titanic is ' + str(median_age))"
      ]
    },
    {
      "cell_type": "markdown",
      "metadata": {
        "id": "1zSlXm84voqS"
      },
      "source": [
        "### Distributions"
      ]
    },
    {
      "cell_type": "code",
      "execution_count": null,
      "metadata": {
        "id": "gAptqUZAvoqT",
        "outputId": "4cb00b1d-ae1d-4090-a893-672c86e121c8",
        "colab": {
          "base_uri": "https://localhost:8080/",
          "height": 394
        }
      },
      "outputs": [
        {
          "output_type": "display_data",
          "data": {
            "text/plain": [
              "<Figure size 600x400 with 1 Axes>"
            ],
            "image/png": "[encoded data removed]"
          },
          "metadata": {}
        }
      ],
      "source": [
        "titanic.hist('Fare')"
      ]
    },
    {
      "cell_type": "code",
      "execution_count": null,
      "metadata": {
        "scrolled": true,
        "id": "W1mTJHAYvoqU",
        "outputId": "5d85e9f8-3cc7-4284-cd92-bc441348a7bc",
        "colab": {
          "base_uri": "https://localhost:8080/",
          "height": 397
        }
      },
      "outputs": [
        {
          "output_type": "display_data",
          "data": {
            "text/plain": [
              "<Figure size 600x400 with 1 Axes>"
            ],
            "image/png": "[encoded data removed]"
          },
          "metadata": {}
        }
      ],
      "source": [
        "titanic.hist('Age', bins = np.arange(0, 81, 5))"
      ]
    },
    {
      "cell_type": "code",
      "execution_count": null,
      "metadata": {
        "id": "JkyZCjjFvoqW",
        "outputId": "93763bcd-517a-4c28-aa04-b538f60fae1f",
        "colab": {
          "base_uri": "https://localhost:8080/",
          "height": 394
        }
      },
      "outputs": [
        {
          "output_type": "display_data",
          "data": {
            "text/plain": [
              "<Figure size 600x400 with 1 Axes>"
            ],
            "image/png": "[encoded data removed]"
          },
          "metadata": {}
        }
      ],
      "source": [
        "class_count = titanic.group('Class')\n",
        "class_count.bar('Class')"
      ]
    },
    {
      "cell_type": "code",
      "execution_count": null,
      "metadata": {
        "id": "ARjpD8pcvoqW",
        "outputId": "86a34884-0764-48fb-a22f-b54cc4457d99"
      },
      "outputs": [
        {
          "data": {
            "text/html": [
              "<table border=\"1\" class=\"dataframe\">\n",
              "    <thead>\n",
              "        <tr>\n",
              "            <th>Fare</th> <th>Class</th>\n",
              "        </tr>\n",
              "    </thead>\n",
              "    <tbody>\n",
              "        <tr>\n",
              "            <td>7.25   </td> <td>3    </td>\n",
              "        </tr>\n",
              "        <tr>\n",
              "            <td>71.2833</td> <td>1    </td>\n",
              "        </tr>\n",
              "        <tr>\n",
              "            <td>7.925  </td> <td>3    </td>\n",
              "        </tr>\n",
              "        <tr>\n",
              "            <td>53.1   </td> <td>1    </td>\n",
              "        </tr>\n",
              "        <tr>\n",
              "            <td>8.05   </td> <td>3    </td>\n",
              "        </tr>\n",
              "    </tbody>\n",
              "</table>\n",
              "<p>... (886 rows omitted)</p>"
            ],
            "text/plain": [
              "<IPython.core.display.HTML object>"
            ]
          },
          "metadata": {},
          "output_type": "display_data"
        }
      ],
      "source": [
        "fare_class = titanic.drop('Name', 'Age', 'Sex', 'Survived', 'Family Size')\n",
        "fare_class.show(5)"
      ]
    },
    {
      "cell_type": "code",
      "execution_count": null,
      "metadata": {
        "id": "Hbpf1DT4voqW",
        "outputId": "93c47329-581d-42fe-9318-653e0846606f"
      },
      "outputs": [
        {
          "data": {
            "image/png": "[encoded data removed]",
            "text/plain": [
              "<Figure size 432x288 with 1 Axes>"
            ]
          },
          "metadata": {
            "needs_background": "light"
          },
          "output_type": "display_data"
        }
      ],
      "source": [
        "class_grouped = fare_class.group('Class', np.mean)\n",
        "class_grouped.bar('Class')"
      ]
    },
    {
      "cell_type": "code",
      "execution_count": null,
      "metadata": {
        "id": "GnbT5z8uvoqX",
        "outputId": "c62b129b-603c-48db-fc95-43df6d6ee178"
      },
      "outputs": [
        {
          "data": {
            "text/html": [
              "<table border=\"1\" class=\"dataframe\">\n",
              "    <thead>\n",
              "        <tr>\n",
              "            <th>Age</th> <th>Fare</th> <th>Sex</th>\n",
              "        </tr>\n",
              "    </thead>\n",
              "    <tbody>\n",
              "        <tr>\n",
              "            <td>22  </td> <td>7.25   </td> <td>male  </td>\n",
              "        </tr>\n",
              "        <tr>\n",
              "            <td>38  </td> <td>71.2833</td> <td>female</td>\n",
              "        </tr>\n",
              "        <tr>\n",
              "            <td>26  </td> <td>7.925  </td> <td>female</td>\n",
              "        </tr>\n",
              "        <tr>\n",
              "            <td>35  </td> <td>53.1   </td> <td>female</td>\n",
              "        </tr>\n",
              "        <tr>\n",
              "            <td>35  </td> <td>8.05   </td> <td>male  </td>\n",
              "        </tr>\n",
              "    </tbody>\n",
              "</table>\n",
              "<p>... (886 rows omitted)</p>"
            ],
            "text/plain": [
              "<IPython.core.display.HTML object>"
            ]
          },
          "metadata": {},
          "output_type": "display_data"
        }
      ],
      "source": [
        "age_fare = titanic.drop('Name', 'Class', 'Survived', 'Family Size')\n",
        "age_fare.show(5)"
      ]
    },
    {
      "cell_type": "code",
      "execution_count": null,
      "metadata": {
        "id": "NgKEijzdvoqX",
        "outputId": "58c7819f-d2d9-44dc-93b6-0e743b29703c"
      },
      "outputs": [
        {
          "data": {
            "text/html": [
              "<table border=\"1\" class=\"dataframe\">\n",
              "    <thead>\n",
              "        <tr>\n",
              "            <th>Sex</th> <th>Age mean</th> <th>Fare mean</th>\n",
              "        </tr>\n",
              "    </thead>\n",
              "    <tbody>\n",
              "        <tr>\n",
              "            <td>female</td> <td>27.6481 </td> <td>44.4798  </td>\n",
              "        </tr>\n",
              "        <tr>\n",
              "            <td>male  </td> <td>30.4232 </td> <td>25.5239  </td>\n",
              "        </tr>\n",
              "    </tbody>\n",
              "</table>"
            ],
            "text/plain": [
              "Sex    | Age mean | Fare mean\n",
              "female | 27.6481  | 44.4798\n",
              "male   | 30.4232  | 25.5239"
            ]
          },
          "execution_count": 71,
          "metadata": {},
          "output_type": "execute_result"
        }
      ],
      "source": [
        "gender_grouped = age_fare.group('Sex', np.mean)\n",
        "gender_grouped"
      ]
    },
    {
      "cell_type": "code",
      "execution_count": null,
      "metadata": {
        "id": "CJTjTgFZvoqX",
        "outputId": "d5436457-64ce-4f0e-b1b1-c4a26e4a666c"
      },
      "outputs": [
        {
          "data": {
            "image/png": "[encoded data removed]",
            "text/plain": [
              "<Figure size 432x288 with 1 Axes>"
            ]
          },
          "metadata": {
            "needs_background": "light"
          },
          "output_type": "display_data"
        }
      ],
      "source": [
        "gender_grouped.barh('Sex')"
      ]
    },
    {
      "cell_type": "code",
      "execution_count": null,
      "metadata": {
        "scrolled": true,
        "id": "D3N4enl1voqX",
        "outputId": "47f046de-04c8-41f2-ed59-5b45b904b6d0"
      },
      "outputs": [
        {
          "data": {
            "image/png": "[encoded data removed]",
            "text/plain": [
              "<Figure size 432x288 with 1 Axes>"
            ]
          },
          "metadata": {
            "needs_background": "light"
          },
          "output_type": "display_data"
        }
      ],
      "source": [
        "df = pd.read_csv('titanic_cleaned.csv')\n",
        "sns.scatterplot('Fare', 'Age', data=df, hue='Survived');"
      ]
    }
  ],
  "metadata": {
    "kernelspec": {
      "display_name": "Python 3",
      "language": "python",
      "name": "python3"
    },
    "language_info": {
      "codemirror_mode": {
        "name": "ipython",
        "version": 3
      },
      "file_extension": ".py",
      "mimetype": "text/x-python",
      "name": "python",
      "nbconvert_exporter": "python",
      "pygments_lexer": "ipython3",
      "version": "3.8.8"
    },
    "colab": {
      "provenance": [],
      "include_colab_link": true
    }
  },
  "nbformat": 4,
  "nbformat_minor": 0
}